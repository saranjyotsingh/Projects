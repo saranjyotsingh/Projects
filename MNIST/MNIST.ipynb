{
 "cells": [
  {
   "cell_type": "code",
   "execution_count": 2,
   "metadata": {},
   "outputs": [],
   "source": [
    "import matplotlib.pyplot as plt\n",
    "%matplotlib inline\n",
    "import numpy as np\n",
    "import pandas as pd\n",
    "import os"
   ]
  },
  {
   "cell_type": "code",
   "execution_count": 74,
   "metadata": {},
   "outputs": [
    {
     "data": {
      "text/plain": [
       "42000"
      ]
     },
     "execution_count": 74,
     "metadata": {},
     "output_type": "execute_result"
    }
   ],
   "source": [
    "train = pd.read_csv('train.csv')\n",
    "test = pd.read_csv('test.csv')\n",
    "len(train)\n",
    "#list(train)"
   ]
  },
  {
   "cell_type": "code",
   "execution_count": 75,
   "metadata": {},
   "outputs": [
    {
     "data": {
      "text/plain": [
       "42000"
      ]
     },
     "execution_count": 75,
     "metadata": {},
     "output_type": "execute_result"
    }
   ],
   "source": [
    "x=train.copy()\n",
    "y=x.pop('label')\n",
    "len(x)"
   ]
  },
  {
   "cell_type": "code",
   "execution_count": null,
   "metadata": {},
   "outputs": [],
   "source": [
    "print(y.loc[11])\n",
    "img=x.loc[1].values.reshape(28,28)\n",
    "plt.imshow(img)"
   ]
  },
  {
   "cell_type": "code",
   "execution_count": 78,
   "metadata": {},
   "outputs": [
    {
     "name": "stdout",
     "output_type": "stream",
     "text": [
      "32000\n",
      "32000\n",
      "32000\n",
      "10000\n"
     ]
    }
   ],
   "source": [
    "xTrain, xTest, yTrain, yTest= x[:32000], x[32000:], y[:32000], y[32000:]\n",
    "shuffle= np.random.permutation(32000)\n",
    "#print(xTrain.loc[0])\n",
    "xx, yy= xTrain.reindex(shuffle), yTrain.reindex(shuffle)\n",
    "print(len(xx))\n",
    "print(len(yy))\n",
    "#print(xx.info())\n",
    "#yy.dropna()\n",
    "xx=xx.dropna()\n",
    "yy=yy.dropna()\n",
    "xTest= xTest.dropna()\n",
    "YTest= yTest.dropna()\n",
    "print(len(xx))\n",
    "print(len(xTest))"
   ]
  },
  {
   "cell_type": "code",
   "execution_count": 86,
   "metadata": {},
   "outputs": [
    {
     "name": "stderr",
     "output_type": "stream",
     "text": [
      "/usr/local/lib/python3.6/site-packages/sklearn/linear_model/stochastic_gradient.py:128: FutureWarning: max_iter and tol parameters have been added in <class 'sklearn.linear_model.stochastic_gradient.SGDClassifier'> in 0.19. If both are left unset, they default to max_iter=5 and tol=None. If tol is not None, max_iter defaults to max_iter=1000. From 0.21, default max_iter will be 1000, and default tol will be 1e-3.\n",
      "  \"and default tol will be 1e-3.\" % type(self), FutureWarning)\n"
     ]
    },
    {
     "name": "stdout",
     "output_type": "stream",
     "text": [
      "6\n"
     ]
    }
   ],
   "source": [
    "from sklearn.linear_model import SGDClassifier\n",
    "sgd= SGDClassifier(random_state=42)\n",
    "sgd.fit(xx, yy)\n",
    "yPred= sgd.predict(xTest)\n",
    "print(yPred[0])"
   ]
  },
  {
   "cell_type": "code",
   "execution_count": 95,
   "metadata": {},
   "outputs": [
    {
     "name": "stdout",
     "output_type": "stream",
     "text": [
      "[0.90984361 0.94695652 0.7761324  0.88652482 0.93043478 0.88705584\n",
      " 0.92654261 0.89097408 0.83685446 0.80345158]\n",
      "[0.97823937 0.95610184 0.92523364 0.83412774 0.80364807 0.78363229\n",
      " 0.95459132 0.94234405 0.73581011 0.84136546]\n",
      "[0.94280267 0.95150721 0.84414969 0.85952849 0.86240645 0.83214286\n",
      " 0.94035785 0.91593937 0.78308622 0.82197155]\n"
     ]
    }
   ],
   "source": [
    "from sklearn.metrics import precision_score, recall_score, f1_score\n",
    "print(precision_score(yTest, yPred, average=None))\n",
    "print(recall_score(yTest, yPred, average=None))\n",
    "print(f1_score(yTest, yPred, average=None))"
   ]
  },
  {
   "cell_type": "code",
   "execution_count": 96,
   "metadata": {},
   "outputs": [
    {
     "name": "stdout",
     "output_type": "stream",
     "text": [
      "yes\n"
     ]
    }
   ],
   "source": [
    "from sklearn.neighbors import KNeighborsClassifier\n",
    "knn= KNeighborsClassifier()\n",
    "knn.fit(xx, yy)\n",
    "print(\"yes\")"
   ]
  },
  {
   "cell_type": "code",
   "execution_count": 99,
   "metadata": {},
   "outputs": [
    {
     "name": "stdout",
     "output_type": "stream",
     "text": [
      "[0.97016362 0.94596841 0.98081023 0.96749522 0.98146129 0.95847363\n",
      " 0.981      0.95895522 0.98896247 0.95445344]\n",
      "[0.99703264 0.99912204 0.95534787 0.96472831 0.96566524 0.9573991\n",
      " 0.98990918 0.97164461 0.9246646  0.94678715]\n",
      "[0.98341463 0.97181896 0.96791163 0.96610979 0.97349919 0.95793606\n",
      " 0.98543446 0.96525822 0.95573333 0.95060484]\n"
     ]
    }
   ],
   "source": [
    "yPredk= knn.predict(xTest)\n",
    "print(precision_score(yTest, yPredk, average=None))\n",
    "print(recall_score(yTest, yPredk, average=None))\n",
    "print(f1_score(yTest, yPredk, average=None))"
   ]
  },
  {
   "cell_type": "code",
   "execution_count": 101,
   "metadata": {},
   "outputs": [],
   "source": [
    "testPred=knn.predict(test)"
   ]
  },
  {
   "cell_type": "code",
   "execution_count": 102,
   "metadata": {},
   "outputs": [
    {
     "name": "stdout",
     "output_type": "stream",
     "text": [
      "28000\n"
     ]
    }
   ],
   "source": [
    "print(len(testPred))"
   ]
  },
  {
   "cell_type": "code",
   "execution_count": 103,
   "metadata": {},
   "outputs": [
    {
     "name": "stdout",
     "output_type": "stream",
     "text": [
      "28000\n"
     ]
    }
   ],
   "source": [
    "listID=[]\n",
    "for i in range(1,28001):\n",
    "    listID.append(i)\n",
    "print(len(listID))"
   ]
  },
  {
   "cell_type": "code",
   "execution_count": 105,
   "metadata": {},
   "outputs": [],
   "source": [
    "submission=pd.DataFrame({\n",
    "    \"ImageId\": listID,\n",
    "    \"Label\": testPred\n",
    "})\n",
    "submission.to_csv(\"MNIST.csv\", index=False)"
   ]
  }
 ],
 "metadata": {
  "kernelspec": {
   "display_name": "Python 3",
   "language": "python",
   "name": "python3"
  },
  "language_info": {
   "codemirror_mode": {
    "name": "ipython",
    "version": 3
   },
   "file_extension": ".py",
   "mimetype": "text/x-python",
   "name": "python",
   "nbconvert_exporter": "python",
   "pygments_lexer": "ipython3",
   "version": "3.7.1"
  }
 },
 "nbformat": 4,
 "nbformat_minor": 2
}
